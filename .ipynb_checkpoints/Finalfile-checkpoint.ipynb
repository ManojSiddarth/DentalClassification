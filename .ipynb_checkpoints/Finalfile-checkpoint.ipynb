{
 "cells": [
  {
   "cell_type": "code",
   "execution_count": null,
   "id": "df16ca3b",
   "metadata": {
    "papermill": {
     "duration": 23.12872,
     "end_time": "2024-11-15T04:37:46.829033",
     "exception": false,
     "start_time": "2024-11-15T04:37:23.700313",
     "status": "completed"
    },
    "tags": []
   },
   "outputs": [],
   "source": [
    "!pip install ultralytics\n",
    "from ultralytics import YOLO\n",
    "model = YOLO(\"yolo11n.pt\")"
   ]
  },
  {
   "cell_type": "code",
   "execution_count": null,
   "id": "18c17776-20be-4124-9f15-85ff0a82df91",
   "metadata": {},
   "outputs": [],
   "source": [
    "#CREATE THE DIRECTORIES TO RUN PROGRAM"
   ]
  },
  {
   "cell_type": "code",
   "execution_count": null,
   "id": "163e5486",
   "metadata": {
    "papermill": {
     "duration": 10.190929,
     "end_time": "2024-11-15T04:37:57.044697",
     "exception": false,
     "start_time": "2024-11-15T04:37:46.853768",
     "status": "completed"
    },
    "scrolled": true,
    "tags": []
   },
   "outputs": [],
   "source": [
    "from glob import glob\n",
    "import os\n",
    "\n",
    "# Define HOME as a writable directory\n",
    "HOME = \"\"\n",
    "\n",
    "def make_ds(root, path_to_copy):\n",
    "    os.makedirs(path_to_copy, exist_ok=True)\n",
    "    \n",
    "    files = glob(f\"{root}/*\")\n",
    "    for idx, file in enumerate(files):\n",
    "        # Skip copying the destination directory back into itself\n",
    "        if os.path.abspath(file) == os.path.abspath(path_to_copy):\n",
    "            continue\n",
    "        if os.path.isdir(file):\n",
    "            os.system(f\"cp -r \\\"{file}\\\" \\\"{path_to_copy}\\\"\")\n",
    "        elif os.path.isfile(file):\n",
    "            os.system(f\"cp \\\"{file}\\\" \\\"{path_to_copy}\\\"\")\n",
    "\n",
    "# Update root to a valid source directory\n",
    "root = \"pytorch/bin/\"\n",
    "destination = os.path.join(HOME, \"datasets\")\n",
    "\n",
    "# Call the function\n",
    "make_ds(root=root, path_to_copy=destination)\n",
    "\n",
    "print(f\"Dataset copied to {destination}\")\n"
   ]
  },
  {
   "cell_type": "code",
   "execution_count": null,
   "id": "d6fb3b65-45b6-4c84-b0a3-a184e5680759",
   "metadata": {},
   "outputs": [],
   "source": [
    "#MODEL TRAINING"
   ]
  },
  {
   "cell_type": "code",
   "execution_count": null,
   "id": "a122731f",
   "metadata": {
    "papermill": {
     "duration": 1563.517151,
     "end_time": "2024-11-15T05:04:00.585459",
     "exception": false,
     "start_time": "2024-11-15T04:37:57.068308",
     "status": "completed"
    },
    "tags": []
   },
   "outputs": [],
   "source": [
    "train_results = model.train(\n",
    "    data=\"data.yaml\",  # path to dataset YAML\n",
    "    epochs=10,  # number of training epochs\n",
    "    imgsz=380,  # training image size\n",
    "    device=\"0\",  # device to run on, i.e. device=0 or device=0,1,2,3 or device=cpu\n",
    ")"
   ]
  },
  {
   "cell_type": "code",
   "execution_count": null,
   "id": "0e210abd-8bc5-416b-ac5c-4d84090ee83c",
   "metadata": {},
   "outputs": [],
   "source": [
    "#LEARNING CURVES"
   ]
  },
  {
   "cell_type": "code",
   "execution_count": null,
   "id": "a8c41af8",
   "metadata": {
    "papermill": {
     "duration": 0.604888,
     "end_time": "2024-11-15T05:04:01.511775",
     "exception": false,
     "start_time": "2024-11-15T05:04:00.906887",
     "status": "completed"
    },
    "tags": []
   },
   "outputs": [],
   "source": [
    "from PIL import Image\n",
    "Image.open(f\"runs/detect/train/confusion_matrix.png\")"
   ]
  },
  {
   "cell_type": "code",
   "execution_count": null,
   "id": "6ade9c0f",
   "metadata": {
    "papermill": {
     "duration": 0.380646,
     "end_time": "2024-11-15T05:04:01.987231",
     "exception": false,
     "start_time": "2024-11-15T05:04:01.606585",
     "status": "completed"
    },
    "tags": []
   },
   "outputs": [],
   "source": [
    "Image.open(f\"runs/detect/train/results.png\")"
   ]
  },
  {
   "cell_type": "code",
   "execution_count": null,
   "id": "fcfc6afd",
   "metadata": {
    "papermill": {
     "duration": 0.432253,
     "end_time": "2024-11-15T05:04:02.521999",
     "exception": false,
     "start_time": "2024-11-15T05:04:02.089746",
     "status": "completed"
    },
    "tags": []
   },
   "outputs": [],
   "source": [
    "Image.open(f\"runs/detect/train/P_curve.png\")"
   ]
  },
  {
   "cell_type": "code",
   "execution_count": null,
   "id": "ce6158aa",
   "metadata": {
    "papermill": {
     "duration": 0.431807,
     "end_time": "2024-11-15T05:04:03.064610",
     "exception": false,
     "start_time": "2024-11-15T05:04:02.632803",
     "status": "completed"
    },
    "tags": []
   },
   "outputs": [],
   "source": [
    "Image.open(f\"runs/detect/train/PR_curve.png\")"
   ]
  },
  {
   "cell_type": "code",
   "execution_count": null,
   "id": "75f39d86",
   "metadata": {
    "papermill": {
     "duration": 0.49144,
     "end_time": "2024-11-15T05:04:03.673329",
     "exception": false,
     "start_time": "2024-11-15T05:04:03.181889",
     "status": "completed"
    },
    "tags": []
   },
   "outputs": [],
   "source": [
    "Image.open(f\"runs/detect/train/val_batch0_pred.jpg\")"
   ]
  },
  {
   "cell_type": "code",
   "execution_count": null,
   "id": "4e2f8a2c-f786-4618-8516-666c4f872e80",
   "metadata": {},
   "outputs": [],
   "source": [
    "#TESTS"
   ]
  },
  {
   "cell_type": "code",
   "execution_count": null,
   "id": "b2830f30",
   "metadata": {
    "papermill": {
     "duration": 7.88818,
     "end_time": "2024-11-15T05:04:12.118545",
     "exception": false,
     "start_time": "2024-11-15T05:04:04.230365",
     "status": "completed"
    },
    "tags": []
   },
   "outputs": [],
   "source": [
    "inference_results = model(\"DentalClassification/test/images\")"
   ]
  },
  {
   "cell_type": "code",
   "execution_count": null,
   "id": "d78fb0ea",
   "metadata": {
    "papermill": {
     "duration": 0.476654,
     "end_time": "2024-11-15T05:04:12.792702",
     "exception": false,
     "start_time": "2024-11-15T05:04:12.316048",
     "status": "completed"
    },
    "tags": []
   },
   "outputs": [],
   "source": [
    "import cv2, numpy as np\n",
    "\n",
    "for idx, r in enumerate(inference_results):\n",
    "    or_im_rgb = np.array(Image.open(r[0].path).convert(\"RGB\"))\n",
    "    if idx == 5: break    \n",
    "    print(f\"Image#{idx + 1}\")\n",
    "    for i in r:\n",
    "        for bbox in i.boxes:\n",
    "            box = bbox.xyxy[0]\n",
    "            x1, y1, x2, y2 = box\n",
    "            coord1, coord2 = (int(x1), int(y1)), (int(x2), int(y2))\n",
    "            cv2.rectangle(or_im_rgb, coord1, coord2, color=(255,0,0), thickness=2)\n",
    "    display(Image.fromarray(or_im_rgb))"
   ]
  },
  {
   "cell_type": "code",
   "execution_count": null,
   "id": "634bd820-8644-4a76-bf37-9e3c6b564ec4",
   "metadata": {},
   "outputs": [],
   "source": []
  }
 ],
 "metadata": {
  "kaggle": {
   "accelerator": "none",
   "dataSources": [
    {
     "datasetId": 5849420,
     "sourceId": 9590754,
     "sourceType": "datasetVersion"
    }
   ],
   "dockerImageVersionId": 30786,
   "isGpuEnabled": false,
   "isInternetEnabled": true,
   "language": "python",
   "sourceType": "notebook"
  },
  "kernelspec": {
   "display_name": "Python 3 (ipykernel)",
   "language": "python",
   "name": "python3"
  },
  "language_info": {
   "codemirror_mode": {
    "name": "ipython",
    "version": 3
   },
   "file_extension": ".py",
   "mimetype": "text/x-python",
   "name": "python",
   "nbconvert_exporter": "python",
   "pygments_lexer": "ipython3",
   "version": "3.12.3"
  },
  "papermill": {
   "default_parameters": {},
   "duration": 1615.406005,
   "end_time": "2024-11-15T05:04:15.994661",
   "environment_variables": {},
   "exception": null,
   "input_path": "__notebook__.ipynb",
   "output_path": "__notebook__.ipynb",
   "parameters": {},
   "start_time": "2024-11-15T04:37:20.588656",
   "version": "2.6.0"
  }
 },
 "nbformat": 4,
 "nbformat_minor": 5
}
